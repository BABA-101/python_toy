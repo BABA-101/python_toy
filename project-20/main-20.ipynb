{
 "cells": [
  {
   "cell_type": "code",
   "execution_count": 1,
   "metadata": {},
   "outputs": [
    {
     "ename": "KeyboardInterrupt",
     "evalue": "",
     "output_type": "error",
     "traceback": [
      "\u001b[1;31m---------------------------------------------------------------------------\u001b[0m",
      "\u001b[1;31mKeyboardInterrupt\u001b[0m                         Traceback (most recent call last)",
      "Cell \u001b[1;32mIn [1], line 5\u001b[0m\n\u001b[0;32m      2\u001b[0m \u001b[39mfrom\u001b[39;00m \u001b[39mwebdriver_manager\u001b[39;00m\u001b[39m.\u001b[39;00m\u001b[39mchrome\u001b[39;00m \u001b[39mimport\u001b[39;00m ChromeDriverManager\n\u001b[0;32m      3\u001b[0m \u001b[39mfrom\u001b[39;00m \u001b[39mselenium\u001b[39;00m \u001b[39mimport\u001b[39;00m webdriver\n\u001b[1;32m----> 5\u001b[0m driver \u001b[39m=\u001b[39m webdriver\u001b[39m.\u001b[39mChrome(ChromeDriverManager()\u001b[39m.\u001b[39;49minstall())\n\u001b[0;32m      7\u001b[0m URL \u001b[39m=\u001b[39m \u001b[39m'\u001b[39m\u001b[39mhttps://www.google.co.kr\u001b[39m\u001b[39m'\u001b[39m\n\u001b[0;32m      8\u001b[0m driver\u001b[39m.\u001b[39mget(url\u001b[39m=\u001b[39mURL)\n",
      "File \u001b[1;32mc:\\Users\\User001\\AppData\\Local\\Programs\\Python\\Python310\\lib\\site-packages\\webdriver_manager\\chrome.py:39\u001b[0m, in \u001b[0;36mChromeDriverManager.install\u001b[1;34m(self)\u001b[0m\n\u001b[0;32m     38\u001b[0m \u001b[39mdef\u001b[39;00m \u001b[39minstall\u001b[39m(\u001b[39mself\u001b[39m) \u001b[39m-\u001b[39m\u001b[39m>\u001b[39m \u001b[39mstr\u001b[39m:\n\u001b[1;32m---> 39\u001b[0m     driver_path \u001b[39m=\u001b[39m \u001b[39mself\u001b[39;49m\u001b[39m.\u001b[39;49m_get_driver_path(\u001b[39mself\u001b[39;49m\u001b[39m.\u001b[39;49mdriver)\n\u001b[0;32m     40\u001b[0m     os\u001b[39m.\u001b[39mchmod(driver_path, \u001b[39m0o755\u001b[39m)\n\u001b[0;32m     41\u001b[0m     \u001b[39mreturn\u001b[39;00m driver_path\n",
      "File \u001b[1;32mc:\\Users\\User001\\AppData\\Local\\Programs\\Python\\Python310\\lib\\site-packages\\webdriver_manager\\core\\manager.py:26\u001b[0m, in \u001b[0;36mDriverManager._get_driver_path\u001b[1;34m(self, driver)\u001b[0m\n\u001b[0;32m     25\u001b[0m \u001b[39mdef\u001b[39;00m \u001b[39m_get_driver_path\u001b[39m(\u001b[39mself\u001b[39m, driver):\n\u001b[1;32m---> 26\u001b[0m     binary_path \u001b[39m=\u001b[39m \u001b[39mself\u001b[39;49m\u001b[39m.\u001b[39;49mdriver_cache\u001b[39m.\u001b[39;49mfind_driver(driver)\n\u001b[0;32m     27\u001b[0m     \u001b[39mif\u001b[39;00m binary_path:\n\u001b[0;32m     28\u001b[0m         \u001b[39mreturn\u001b[39;00m binary_path\n",
      "File \u001b[1;32mc:\\Users\\User001\\AppData\\Local\\Programs\\Python\\Python310\\lib\\site-packages\\webdriver_manager\\core\\driver_cache.py:96\u001b[0m, in \u001b[0;36mDriverCache.find_driver\u001b[1;34m(self, driver)\u001b[0m\n\u001b[0;32m     94\u001b[0m os_type \u001b[39m=\u001b[39m driver\u001b[39m.\u001b[39mget_os_type()\n\u001b[0;32m     95\u001b[0m driver_name \u001b[39m=\u001b[39m driver\u001b[39m.\u001b[39mget_name()\n\u001b[1;32m---> 96\u001b[0m driver_version \u001b[39m=\u001b[39m driver\u001b[39m.\u001b[39;49mget_version()\n\u001b[0;32m     97\u001b[0m browser_version \u001b[39m=\u001b[39m driver\u001b[39m.\u001b[39mget_browser_version()\n\u001b[0;32m     98\u001b[0m browser_type \u001b[39m=\u001b[39m driver\u001b[39m.\u001b[39mget_browser_type()\n",
      "File \u001b[1;32mc:\\Users\\User001\\AppData\\Local\\Programs\\Python\\Python310\\lib\\site-packages\\webdriver_manager\\core\\driver.py:45\u001b[0m, in \u001b[0;36mDriver.get_version\u001b[1;34m(self)\u001b[0m\n\u001b[0;32m     43\u001b[0m \u001b[39mif\u001b[39;00m \u001b[39mnot\u001b[39;00m \u001b[39mself\u001b[39m\u001b[39m.\u001b[39m_version:\n\u001b[0;32m     44\u001b[0m     \u001b[39mtry\u001b[39;00m:\n\u001b[1;32m---> 45\u001b[0m         \u001b[39mreturn\u001b[39;00m \u001b[39mself\u001b[39;49m\u001b[39m.\u001b[39;49mget_latest_release_version()\n\u001b[0;32m     46\u001b[0m     \u001b[39mexcept\u001b[39;00m \u001b[39mException\u001b[39;00m:\n\u001b[0;32m     47\u001b[0m         \u001b[39mreturn\u001b[39;00m \u001b[39mself\u001b[39m\u001b[39m.\u001b[39mget_browser_version()\n",
      "File \u001b[1;32mc:\\Users\\User001\\AppData\\Local\\Programs\\Python\\Python310\\lib\\site-packages\\webdriver_manager\\drivers\\chrome.py:53\u001b[0m, in \u001b[0;36mChromeDriver.get_latest_release_version\u001b[1;34m(self)\u001b[0m\n\u001b[0;32m     52\u001b[0m \u001b[39mdef\u001b[39;00m \u001b[39mget_latest_release_version\u001b[39m(\u001b[39mself\u001b[39m):\n\u001b[1;32m---> 53\u001b[0m     browser_version \u001b[39m=\u001b[39m \u001b[39mself\u001b[39;49m\u001b[39m.\u001b[39;49mget_browser_version()\n\u001b[0;32m     54\u001b[0m     log(\u001b[39mf\u001b[39m\u001b[39m\"\u001b[39m\u001b[39mGet LATEST \u001b[39m\u001b[39m{\u001b[39;00m\u001b[39mself\u001b[39m\u001b[39m.\u001b[39m_name\u001b[39m}\u001b[39;00m\u001b[39m version for \u001b[39m\u001b[39m{\u001b[39;00m\u001b[39mself\u001b[39m\u001b[39m.\u001b[39mget_browser_type()\u001b[39m}\u001b[39;00m\u001b[39m \u001b[39m\u001b[39m{\u001b[39;00mbrowser_version\u001b[39m}\u001b[39;00m\u001b[39m\"\u001b[39m)\n\u001b[0;32m     55\u001b[0m     latest_release_url \u001b[39m=\u001b[39m (\n\u001b[0;32m     56\u001b[0m         \u001b[39mf\u001b[39m\u001b[39m\"\u001b[39m\u001b[39m{\u001b[39;00m\u001b[39mself\u001b[39m\u001b[39m.\u001b[39m_latest_release_url\u001b[39m}\u001b[39;00m\u001b[39m_\u001b[39m\u001b[39m{\u001b[39;00mbrowser_version\u001b[39m}\u001b[39;00m\u001b[39m\"\u001b[39m\n\u001b[0;32m     57\u001b[0m         \u001b[39mif\u001b[39;00m browser_version\n\u001b[0;32m     58\u001b[0m         \u001b[39melse\u001b[39;00m \u001b[39mself\u001b[39m\u001b[39m.\u001b[39m_latest_release_url\n\u001b[0;32m     59\u001b[0m     )\n",
      "File \u001b[1;32mc:\\Users\\User001\\AppData\\Local\\Programs\\Python\\Python310\\lib\\site-packages\\webdriver_manager\\core\\driver.py:55\u001b[0m, in \u001b[0;36mDriver.get_browser_version\u001b[1;34m(self)\u001b[0m\n\u001b[0;32m     54\u001b[0m \u001b[39mdef\u001b[39;00m \u001b[39mget_browser_version\u001b[39m(\u001b[39mself\u001b[39m):\n\u001b[1;32m---> 55\u001b[0m     \u001b[39mreturn\u001b[39;00m get_browser_version_from_os(\u001b[39mself\u001b[39;49m\u001b[39m.\u001b[39;49mget_browser_type())\n",
      "File \u001b[1;32mc:\\Users\\User001\\AppData\\Local\\Programs\\Python\\Python310\\lib\\site-packages\\webdriver_manager\\core\\utils.py:222\u001b[0m, in \u001b[0;36mget_browser_version_from_os\u001b[1;34m(browser_type)\u001b[0m\n\u001b[0;32m    220\u001b[0m     cmd_mapping \u001b[39m=\u001b[39m cmd_mapping[browser_type][os_name()]\n\u001b[0;32m    221\u001b[0m     pattern \u001b[39m=\u001b[39m PATTERN[browser_type]\n\u001b[1;32m--> 222\u001b[0m     version \u001b[39m=\u001b[39m read_version_from_cmd(cmd_mapping, pattern)\n\u001b[0;32m    223\u001b[0m     \u001b[39mreturn\u001b[39;00m version\n\u001b[0;32m    224\u001b[0m \u001b[39mexcept\u001b[39;00m \u001b[39mException\u001b[39;00m:\n",
      "File \u001b[1;32mc:\\Users\\User001\\AppData\\Local\\Programs\\Python\\Python310\\lib\\site-packages\\webdriver_manager\\core\\utils.py:263\u001b[0m, in \u001b[0;36mread_version_from_cmd\u001b[1;34m(cmd, pattern)\u001b[0m\n\u001b[0;32m    255\u001b[0m \u001b[39mdef\u001b[39;00m \u001b[39mread_version_from_cmd\u001b[39m(cmd, pattern):\n\u001b[0;32m    256\u001b[0m     \u001b[39mwith\u001b[39;00m subprocess\u001b[39m.\u001b[39mPopen(\n\u001b[0;32m    257\u001b[0m             cmd,\n\u001b[0;32m    258\u001b[0m             stdout\u001b[39m=\u001b[39msubprocess\u001b[39m.\u001b[39mPIPE,\n\u001b[1;32m   (...)\u001b[0m\n\u001b[0;32m    261\u001b[0m             shell\u001b[39m=\u001b[39m\u001b[39mTrue\u001b[39;00m,\n\u001b[0;32m    262\u001b[0m     ) \u001b[39mas\u001b[39;00m stream:\n\u001b[1;32m--> 263\u001b[0m         stdout \u001b[39m=\u001b[39m stream\u001b[39m.\u001b[39;49mcommunicate()[\u001b[39m0\u001b[39m]\u001b[39m.\u001b[39mdecode()\n\u001b[0;32m    264\u001b[0m         version \u001b[39m=\u001b[39m re\u001b[39m.\u001b[39msearch(pattern, stdout)\n\u001b[0;32m    265\u001b[0m         version \u001b[39m=\u001b[39m version\u001b[39m.\u001b[39mgroup(\u001b[39m0\u001b[39m) \u001b[39mif\u001b[39;00m version \u001b[39melse\u001b[39;00m \u001b[39mNone\u001b[39;00m\n",
      "File \u001b[1;32mc:\\Users\\User001\\AppData\\Local\\Programs\\Python\\Python310\\lib\\subprocess.py:1141\u001b[0m, in \u001b[0;36mPopen.communicate\u001b[1;34m(self, input, timeout)\u001b[0m\n\u001b[0;32m   1139\u001b[0m     \u001b[39mself\u001b[39m\u001b[39m.\u001b[39m_stdin_write(\u001b[39minput\u001b[39m)\n\u001b[0;32m   1140\u001b[0m \u001b[39melif\u001b[39;00m \u001b[39mself\u001b[39m\u001b[39m.\u001b[39mstdout:\n\u001b[1;32m-> 1141\u001b[0m     stdout \u001b[39m=\u001b[39m \u001b[39mself\u001b[39;49m\u001b[39m.\u001b[39;49mstdout\u001b[39m.\u001b[39;49mread()\n\u001b[0;32m   1142\u001b[0m     \u001b[39mself\u001b[39m\u001b[39m.\u001b[39mstdout\u001b[39m.\u001b[39mclose()\n\u001b[0;32m   1143\u001b[0m \u001b[39melif\u001b[39;00m \u001b[39mself\u001b[39m\u001b[39m.\u001b[39mstderr:\n",
      "\u001b[1;31mKeyboardInterrupt\u001b[0m: "
     ]
    }
   ],
   "source": [
    "# 파이썬 코드로 제어할 수 있는 크롬 창 띄우기\n",
    "from webdriver_manager.chrome import ChromeDriverManager\n",
    "from selenium import webdriver\n",
    "\n",
    "driver = webdriver.Chrome(ChromeDriverManager().install())\n",
    "\n",
    "URL = 'https://www.google.co.kr'\n",
    "driver.get(url=URL)\n",
    "driver.implicitly_wait(time_to_wait=10)"
   ]
  },
  {
   "cell_type": "code",
   "execution_count": null,
   "metadata": {},
   "outputs": [],
   "source": [
    "#실시간 검색어 원소 찾아 저장\n",
    "from selenium.webdriver.common.by import By\n",
    "\n",
    "URL = 'https://signal.bz/news'\n",
    "driver.get(url=URL)\n",
    "driver.implicitly_wait(time_to_wait=10)\n",
    "\n",
    "naver_results=driver.find_elements(By.CSS_SELECTOR,'실시간 검색어 원소들 셀럭터')\n",
    "\n",
    "naver_list=[]\n",
    "for naver_result in naver_results:\n",
    "    print(naver_result.text)\n",
    "    naver_list.append(naver_result.text)"
   ]
  },
  {
   "cell_type": "code",
   "execution_count": null,
   "metadata": {},
   "outputs": [],
   "source": [
    "# 네이트에서 실시간 검색 확인하는 코드\n",
    "URL='https://www.nate.com'\n",
    "driver.get(url=URL)\n",
    "driver.implicitly_wait(time_to_wait=10)\n",
    "\n",
    "# 실시간 이슈 키워드 중 1위 찾기\n",
    "driver.find_element(By.CSS_SELECTOR,' ').click()\n",
    "# 실시간 이슈 키워드 찾기\n",
    "nate_results=driver.find_elements(By.CSS_SELECTOR,' ')\n",
    "\n",
    "nate_list=[]\n",
    "for nate_result in nate_results:\n",
    "    print(nate_result.text)\n",
    "    nate_list.append(nate_result.text)\n"
   ]
  },
  {
   "cell_type": "code",
   "execution_count": null,
   "metadata": {},
   "outputs": [],
   "source": [
    "# ZUM 포털사이트에서 실시간 검색 확인\n",
    "import time\n",
    "\n",
    "URL='https://zum.com'\n",
    "driver.get(url=URL)\n",
    "driver.implicitly_wait(time_to_wait=10)\n",
    "\n",
    "# 검색창에 아무거나 검색하기\n",
    "driver.find_element(By.CSS_SELECTOR,' ').send_keys(\"아무거나 검색\")\n",
    "time.sleep(0.5)\n",
    "# 검색아이콘 클릭\n",
    "driver.find_element(By.CSS_SELECTOR,' ').click()\n",
    "\n",
    "# 실시간 검색내용 찾기\n",
    "zum_results=driver.find_elements(By.CSS_SELECTOR,' ')\n",
    "\n",
    "zum_list=[]\n",
    "for zum_result in zum_results:\n",
    "    print(zum_result.text)\n",
    "    zum_list.append(zum_result.text)"
   ]
  },
  {
   "cell_type": "code",
   "execution_count": null,
   "metadata": {},
   "outputs": [],
   "source": [
    "print(\"네이버: \",naver_list)\n",
    "print(\"네이트: \",nate_list)\n",
    "print(\"줌: \",zum_list)"
   ]
  }
 ],
 "metadata": {
  "kernelspec": {
   "display_name": "Python 3.10.8 64-bit",
   "language": "python",
   "name": "python3"
  },
  "language_info": {
   "codemirror_mode": {
    "name": "ipython",
    "version": 3
   },
   "file_extension": ".py",
   "mimetype": "text/x-python",
   "name": "python",
   "nbconvert_exporter": "python",
   "pygments_lexer": "ipython3",
   "version": "3.10.8"
  },
  "orig_nbformat": 4,
  "vscode": {
   "interpreter": {
    "hash": "d4f2bbd52f3bddea02822409b6c3889ec4c1e87a95034527e469b147575a227c"
   }
  }
 },
 "nbformat": 4,
 "nbformat_minor": 2
}
