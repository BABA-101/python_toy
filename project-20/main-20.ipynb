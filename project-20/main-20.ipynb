{
 "cells": [
  {
   "cell_type": "code",
   "execution_count": 1,
   "metadata": {},
   "outputs": [
    {
     "name": "stderr",
     "output_type": "stream",
     "text": [
      "[WDM] - Downloading: 100%|██████████| 6.46M/6.46M [00:01<00:00, 4.18MB/s]\n",
      "C:\\Users\\adusg\\AppData\\Local\\Temp\\ipykernel_15152\\1412895295.py:5: DeprecationWarning: executable_path has been deprecated, please pass in a Service object\n",
      "  driver = webdriver.Chrome(ChromeDriverManager().install())\n"
     ]
    }
   ],
   "source": [
    "# 파이썬 코드로 제어할 수 있는 크롬 창 띄우기\n",
    "from webdriver_manager.chrome import ChromeDriverManager\n",
    "from selenium import webdriver\n",
    "\n",
    "driver = webdriver.Chrome(ChromeDriverManager().install())\n",
    "\n",
    "URL = 'https://www.google.co.kr'\n",
    "driver.get(url=URL)\n",
    "driver.implicitly_wait(time_to_wait=10)"
   ]
  },
  {
   "cell_type": "code",
   "execution_count": 4,
   "metadata": {},
   "outputs": [
    {
     "name": "stdout",
     "output_type": "stream",
     "text": [
      "이태원 참사 애도\n",
      "박정천 한미 실수\n",
      "류미진 총경\n",
      "니케\n",
      "이찬원\n",
      "용산경찰서장\n",
      "꼬리에 꼬리를 무는\n",
      "김새론\n",
      "검은 리본 착용\n",
      "흥국생명\n"
     ]
    }
   ],
   "source": [
    "#실시간 검색어 원소 찾아 저장\n",
    "from selenium.webdriver.common.by import By\n",
    "\n",
    "URL = 'https://signal.bz/news'\n",
    "driver.get(url=URL)\n",
    "driver.implicitly_wait(time_to_wait=10)\n",
    "\n",
    "naver_results=driver.find_elements(By.CSS_SELECTOR,'#app > div > main > div > section > div > section > section:nth-child(2) > div:nth-child(2) > div > div > div > a > span.rank-text')\n",
    "\n",
    "naver_list=[]\n",
    "for naver_result in naver_results:\n",
    "    print(naver_result.text)\n",
    "    naver_list.append(naver_result.text)"
   ]
  },
  {
   "cell_type": "code",
   "execution_count": 6,
   "metadata": {},
   "outputs": [
    {
     "name": "stdout",
     "output_type": "stream",
     "text": [
      "이태원 참사 애도\n",
      "박정천 한미 실수\n",
      "이태원 참사 율리아나씨\n",
      "꼬리에 꼬리를 무는\n",
      "검은 리본 착용\n",
      "늑장 대응에 경찰\n",
      "최고 마하 ICBM급\n",
      "손흥민\n",
      "\n",
      "\n"
     ]
    }
   ],
   "source": [
    "# 네이트에서 실시간 검색 확인하는 코드\n",
    "URL='https://www.nate.com'\n",
    "driver.get(url=URL)\n",
    "driver.implicitly_wait(time_to_wait=10)\n",
    "\n",
    "# 실시간 이슈 키워드 중 1위 찾기\n",
    "driver.find_element(By.CSS_SELECTOR,'#olLiveIssueKeyword > li:nth-child(1) > a > span.txt_rank').click()\n",
    "# 실시간 이슈 키워드 찾기\n",
    "nate_results=driver.find_elements(By.CSS_SELECTOR,'#search-option > form:nth-child(1) > fieldset > div.issue-kwd > span > a')\n",
    "\n",
    "nate_list=[]\n",
    "for nate_result in nate_results:\n",
    "    print(nate_result.text)\n",
    "    nate_list.append(nate_result.text)\n"
   ]
  },
  {
   "cell_type": "code",
   "execution_count": 9,
   "metadata": {},
   "outputs": [
    {
     "name": "stdout",
     "output_type": "stream",
     "text": [
      "류미진 총경\n",
      "손흥민\n",
      "용산경찰서장\n",
      "이재명\n",
      "이찬원\n",
      "이태원\n",
      "공습경보\n",
      "골 때리는 그녀들\n",
      "커튼콜\n",
      "이지한\n"
     ]
    }
   ],
   "source": [
    "# ZUM 포털사이트에서 실시간 검색 확인\n",
    "import time\n",
    "\n",
    "URL='https://zum.com'\n",
    "driver.get(url=URL)\n",
    "driver.implicitly_wait(time_to_wait=10)\n",
    "\n",
    "# 검색창에 아무거나 검색하기\n",
    "driver.find_element(By.CSS_SELECTOR,'#search-input').send_keys(\"아무거나 검색\")\n",
    "time.sleep(0.5)\n",
    "# 검색아이콘 클릭\n",
    "driver.find_element(By.CSS_SELECTOR,'#app > div > header > div.search_bar > div > fieldset > div > button.search').click()\n",
    "\n",
    "# 실시간 검색내용 찾기\n",
    "zum_results=driver.find_elements(By.CSS_SELECTOR,'#issue_wrap > ul > li > div > a:nth-child(1) > span.txt')\n",
    "\n",
    "zum_list=[]\n",
    "for zum_result in zum_results:\n",
    "    print(zum_result.text)\n",
    "    zum_list.append(zum_result.text)"
   ]
  },
  {
   "cell_type": "code",
   "execution_count": 10,
   "metadata": {},
   "outputs": [
    {
     "name": "stdout",
     "output_type": "stream",
     "text": [
      "네이버:  ['이태원 참사 애도', '박정천 한미 실수', '류미진 총경', '니케', '이찬원', '용산경찰서장', '꼬리에 꼬리를 무는', '김새론', '검은 리본 착용', '흥국생명']\n",
      "네이트:  ['이태원 참사 애도', '박정천 한미 실수', '이태원 참사 율리아나씨', '꼬리에 꼬리를 무는', '검은 리본 착용', '늑장 대응에 경찰', '최고 마하 ICBM급', '손흥민', '', '']\n",
      "줌:  ['류미진 총경', '손흥민', '용산경찰서장', '이재명', '이찬원', '이태원', '공습경보', '골 때리는 그녀들', '커튼콜', '이지한']\n"
     ]
    }
   ],
   "source": [
    "print(\"네이버: \",naver_list)\n",
    "print(\"네이트: \",nate_list)\n",
    "print(\"줌: \",zum_list)"
   ]
  }
 ],
 "metadata": {
  "kernelspec": {
   "display_name": "Python 3.9.7 64-bit",
   "language": "python",
   "name": "python3"
  },
  "language_info": {
   "codemirror_mode": {
    "name": "ipython",
    "version": 3
   },
   "file_extension": ".py",
   "mimetype": "text/x-python",
   "name": "python",
   "nbconvert_exporter": "python",
   "pygments_lexer": "ipython3",
   "version": "3.9.7"
  },
  "orig_nbformat": 4,
  "vscode": {
   "interpreter": {
    "hash": "111a49ab99aeaf159eb71ccfb5c0a52ffaea59d7a8bd12dffe3e219dc767869a"
   }
  }
 },
 "nbformat": 4,
 "nbformat_minor": 2
}
